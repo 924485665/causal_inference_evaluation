{
 "cells": [
  {
   "cell_type": "code",
   "execution_count": 8,
   "metadata": {
    "collapsed": true
   },
   "outputs": [],
   "source": [
    "import numpy as np\n",
    "from scipy.special import expit\n",
    "import os\n",
    "import matplotlib.pyplot as plt"
   ]
  },
  {
   "cell_type": "code",
   "execution_count": 16,
   "metadata": {},
   "outputs": [
    {
     "name": "stdout",
     "output_type": "stream",
     "text": [
      "1000\n",
      "3000\n",
      "5000\n",
      "10000\n",
      "30000\n"
     ]
    }
   ],
   "source": [
    "n = 100\n",
    "sample_sizes = [1000, 3000, 5000, 10000, 30000]\n",
    "test_sample = 1000\n",
    "sigma_z0 = 3\n",
    "sigma_z1 = 5\n",
    "\n",
    "scale = 10\n",
    "\n",
    "def get_samples(samples, n):\n",
    "    z = np.random.binomial(1, 0.5, (samples, n))\n",
    "    x = np.random.normal(z, np.sqrt(sigma_z1 ** 2 * z + sigma_z0 **2 * (1 - z)))\n",
    "    x = x.reshape((samples, 1, n))\n",
    "    t = np.random.binomial(1, 0.75 * z + 0.25 * (1 - z))\n",
    "    y = np.random.binomial(1, expit(scale * (z + 4 * t - 2)))\n",
    "    ycf = np.random.binomial(1, expit(scale * (z + 4 * (1-t) - 2)))\n",
    "    mu0 =  expit(scale * (z - 2))\n",
    "    mu1 =  expit(scale * (z + 2))\n",
    "    return z, x, t, y, ycf, mu0, mu1\n",
    "\n",
    "for sample in sample_sizes:\n",
    "    print (sample)\n",
    "    z, x, t, y, ycf, mu0, mu1 = get_samples(sample, n)\n",
    "    \n",
    "    path = '../Data/Synthetic_%d' % sample\n",
    "\n",
    "    if not os.path.exists(path):\n",
    "        os.makedirs(path)\n",
    "        \n",
    "    np.savez(path + '/train.npz', x=x, t=t, yf=y, ycf=ycf, mu1=mu1, mu0=mu0)\n",
    "    \n",
    "    z, x, t, y, ycf, mu0, mu1 = get_samples(test_sample, n)\n",
    "    np.savez(path + '/test.npz', x=x, t=t, yf=y, ycf=ycf, mu1=mu1, mu0=mu0)"
   ]
  },
  {
   "cell_type": "code",
   "execution_count": null,
   "metadata": {
    "collapsed": true
   },
   "outputs": [],
   "source": []
  },
  {
   "cell_type": "code",
   "execution_count": null,
   "metadata": {
    "collapsed": true
   },
   "outputs": [],
   "source": []
  }
 ],
 "metadata": {
  "anaconda-cloud": {},
  "kernelspec": {
   "display_name": "Python 3",
   "language": "python",
   "name": "python3"
  },
  "language_info": {
   "codemirror_mode": {
    "name": "ipython",
    "version": 3
   },
   "file_extension": ".py",
   "mimetype": "text/x-python",
   "name": "python",
   "nbconvert_exporter": "python",
   "pygments_lexer": "ipython3",
   "version": "3.6.3"
  }
 },
 "nbformat": 4,
 "nbformat_minor": 2
}
