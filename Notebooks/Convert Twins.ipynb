{
 "cells": [
  {
   "cell_type": "markdown",
   "metadata": {
    "collapsed": true
   },
   "source": [
    "## Convert Data\n",
    "\n",
    "Useful notebook to visualize and convert data to npz format for general testing\n",
    "\n",
    "Need to figure out how this was simulated in the CEVAE paper"
   ]
  },
  {
   "cell_type": "code",
   "execution_count": 1,
   "metadata": {
    "collapsed": true
   },
   "outputs": [],
   "source": [
    "import numpy as np\n",
    "import pandas as pd\n",
    "from scipy.special import expit\n",
    "from sklearn.model_selection import train_test_split\n",
    "import os"
   ]
  },
  {
   "cell_type": "code",
   "execution_count": 2,
   "metadata": {
    "collapsed": true
   },
   "outputs": [],
   "source": [
    "df = pd.read_csv('../Raw_Data/TWINS/twin_pairs_X_3years_samesex.csv')\n",
    "ys = pd.read_csv('../Raw_Data/TWINS/twin_pairs_Y_3years_samesex.csv')\n",
    "ys = ys.drop(['Unnamed: 0'], axis=1)"
   ]
  },
  {
   "cell_type": "code",
   "execution_count": 3,
   "metadata": {
    "collapsed": true
   },
   "outputs": [],
   "source": [
    "to_include = [\n",
    "    'feduc6',\n",
    "    'meduc6',\n",
    "    'dmar',\n",
    "    'mrace',\n",
    "    'frace',\n",
    "    'brstate_reg',\n",
    "    'dtotord_min',\n",
    "    'diabetes',\n",
    "    'renal',\n",
    "    'alcohol',\n",
    "    'tobacco',\n",
    "    'adequacy',\n",
    "    'gestat10',\n",
    "    'pldel'\n",
    "]\n",
    "\n",
    "df = df[to_include]"
   ]
  },
  {
   "cell_type": "code",
   "execution_count": 4,
   "metadata": {
    "collapsed": true
   },
   "outputs": [],
   "source": [
    "missing = df.isna().mean(axis=0) > 0.2"
   ]
  },
  {
   "cell_type": "code",
   "execution_count": 5,
   "metadata": {},
   "outputs": [
    {
     "name": "stdout",
     "output_type": "stream",
     "text": [
      "(3,)\n"
     ]
    }
   ],
   "source": [
    "max_values = (df.max(axis=0) + 1)[missing]\n",
    "print (max_values.shape)"
   ]
  },
  {
   "cell_type": "code",
   "execution_count": 6,
   "metadata": {},
   "outputs": [
    {
     "name": "stdout",
     "output_type": "stream",
     "text": [
      "(11,)\n"
     ]
    }
   ],
   "source": [
    "mode_values = df.mode(axis=0).iloc[0][np.logical_not(missing)]\n",
    "print (mode_values.shape)"
   ]
  },
  {
   "cell_type": "code",
   "execution_count": 7,
   "metadata": {},
   "outputs": [
    {
     "name": "stdout",
     "output_type": "stream",
     "text": [
      "These columns are imputed using max_val + 1\n",
      "Index(['feduc6', 'alcohol', 'tobacco'], dtype='object')\n",
      "These columns are imputed using mode\n",
      "Index(['meduc6', 'dmar', 'mrace', 'frace', 'brstate_reg', 'dtotord_min',\n",
      "       'diabetes', 'renal', 'adequacy', 'gestat10', 'pldel'],\n",
      "      dtype='object')\n"
     ]
    }
   ],
   "source": [
    "new_category = missing.index[missing]\n",
    "mode_category = missing.index[np.logical_not(missing)]\n",
    "\n",
    "print (\"These columns are imputed using max_val + 1\")\n",
    "print (new_category)\n",
    "\n",
    "print (\"These columns are imputed using mode\")\n",
    "print (mode_category)"
   ]
  },
  {
   "cell_type": "code",
   "execution_count": 8,
   "metadata": {
    "collapsed": true
   },
   "outputs": [],
   "source": [
    "df[new_category] = df[new_category].fillna(max_values, axis=0)\n",
    "df[mode_category] = df[mode_category].fillna(mode_values, axis=0)"
   ]
  },
  {
   "cell_type": "code",
   "execution_count": 9,
   "metadata": {},
   "outputs": [
    {
     "name": "stdout",
     "output_type": "stream",
     "text": [
      "(71345, 53)\n",
      "This is not the same as CEVAE but the closest we could get to the author's description\n"
     ]
    }
   ],
   "source": [
    "cat = [\n",
    "    'feduc6',\n",
    "    'meduc6',\n",
    "    'mrace',\n",
    "    'frace',\n",
    "    'brstate_reg',\n",
    "    'adequacy',\n",
    "    'pldel'\n",
    "]\n",
    "\n",
    "df = pd.get_dummies(df, columns=cat)\n",
    "print (df.shape)\n",
    "print (\"This is not the same as CEVAE but the closest we could get to the author's description\")"
   ]
  },
  {
   "cell_type": "code",
   "execution_count": 10,
   "metadata": {
    "collapsed": true
   },
   "outputs": [],
   "source": [
    "z = df['gestat10'].values.reshape(-1,1)\n",
    "x = df.drop(['gestat10'], axis=1).values"
   ]
  },
  {
   "cell_type": "code",
   "execution_count": 11,
   "metadata": {},
   "outputs": [],
   "source": [
    "n = 5 \n",
    "    \n",
    "w0 = 0.1  * np.random.randn(x.shape[1], n) \n",
    "wh = 5 + 0.1 * np.random.randn(1, n)\n",
    "probs = expit(x @ w0 + (z / 10 - 0.1) @ wh)\n",
    "t = np.random.binomial(1, probs)\n",
    "\n",
    "ys = ys.values"
   ]
  },
  {
   "cell_type": "code",
   "execution_count": 12,
   "metadata": {},
   "outputs": [
    {
     "name": "stdout",
     "output_type": "stream",
     "text": [
      "0\n",
      "0.1\n",
      "0.2\n",
      "0.3\n",
      "0.4\n",
      "0.5\n"
     ]
    }
   ],
   "source": [
    "noises = [0, 0.1, 0.2, 0.3, 0.4, 0.5]\n",
    "for noise in noises:\n",
    "    print (noise)\n",
    "    prox = pd.get_dummies(df['gestat10']).values[:, :, np.newaxis]\n",
    "    prox = np.repeat(prox, 3, 1)\n",
    "    prox = np.repeat(prox, n, 2).astype(bool)\n",
    "    flip = (np.random.uniform(size=prox.shape) > (1-noise))\n",
    "    proxies = np.logical_xor(prox, flip).astype(int)\n",
    "\n",
    "    x_repeat = np.repeat(x[:, :, np.newaxis], 5, 2)\n",
    "    features = np.concatenate([x_repeat, proxies], axis=1)\n",
    "    \n",
    "    path = '../Data/Twins_%d' % (100 * noise)\n",
    "    \n",
    "    if not os.path.exists(path):\n",
    "        os.makedirs(path)\n",
    "    count = features.shape[0]\n",
    "    size = int(0.75 * count)\n",
    "\n",
    "    x_train = np.zeros((size, features.shape[1], n))\n",
    "    x_test = np.zeros((count - size, features.shape[1], n))\n",
    "\n",
    "    t_train = np.zeros((size, n))\n",
    "    t_test = np.zeros((count - size, n))\n",
    "\n",
    "    yf_train = np.zeros_like(t_train)\n",
    "    ycf_train = np.zeros_like(t_train)\n",
    "\n",
    "    yf_test = np.zeros_like(t_test)\n",
    "    ycf_test = np.zeros_like(t_test)\n",
    "\n",
    "    for i in range(n):\n",
    "        temp_x = features[:,:,i]\n",
    "        temp_t = t[:,i].astype(int)\n",
    "        temp_yf = ys[np.arange(ys.shape[0]), temp_t]\n",
    "        temp_ycf = ys[np.arange(ys.shape[0]), 1-temp_t]\n",
    "\n",
    "        x_train[:,:,i], x_test[:, :, i], t_train[:,i], t_test[:,i], yf_train[:,i], yf_test[:,i], \\\n",
    "           ycf_train[:,i], ycf_test[:,i] = train_test_split(temp_x, temp_t, temp_yf, temp_ycf)\n",
    "\n",
    "    np.savez(path + '/train.npz', x=x_train, t=t_train, yf=yf_train, ycf=ycf_train)\n",
    "    np.savez(path + '/test.npz', x=x_test,t=t_train, yf=yf_test, ycf=ycf_train)"
   ]
  }
 ],
 "metadata": {
  "anaconda-cloud": {},
  "kernelspec": {
   "display_name": "Python [conda env:py36]",
   "language": "python",
   "name": "conda-env-py36-py"
  },
  "language_info": {
   "codemirror_mode": {
    "name": "ipython",
    "version": 3
   },
   "file_extension": ".py",
   "mimetype": "text/x-python",
   "name": "python",
   "nbconvert_exporter": "python",
   "pygments_lexer": "ipython3",
   "version": "3.6.3"
  }
 },
 "nbformat": 4,
 "nbformat_minor": 2
}
