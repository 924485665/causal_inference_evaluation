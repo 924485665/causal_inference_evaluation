{
 "cells": [
  {
   "cell_type": "markdown",
   "metadata": {
    "collapsed": true
   },
   "source": [
    "## Convert Data\n",
    "\n",
    "Useful notebook to visualize and convert data to npz format for general testing\n",
    "\n",
    "Need to figure out how this was simulated in the CEVAE paper"
   ]
  },
  {
   "cell_type": "code",
   "execution_count": 1,
   "metadata": {
    "collapsed": true
   },
   "outputs": [],
   "source": [
    "import numpy as np\n",
    "import pandas as pd\n",
    "from scipy.special import expit\n",
    "from sklearn.model_selection import train_test_split\n",
    "import os\n",
    "import json"
   ]
  },
  {
   "cell_type": "code",
   "execution_count": 2,
   "metadata": {
    "collapsed": true
   },
   "outputs": [],
   "source": [
    "df = pd.read_csv('../Raw_Data/TWINS/twin_pairs_X_3years_samesex.csv')\n",
    "ys = pd.read_csv('../Raw_Data/TWINS/twin_pairs_Y_3years_samesex.csv')\n",
    "ys = ys.drop(['Unnamed: 0'], axis=1)"
   ]
  },
  {
   "cell_type": "code",
   "execution_count": 3,
   "metadata": {
    "collapsed": true
   },
   "outputs": [],
   "source": [
    "desc = open('../Raw_Data/TWINS/covar_desc.txt', 'r').read()\n",
    "desc = eval(desc)\n",
    "\n",
    "types = open('../Raw_Data/TWINS/covar_type.txt', 'r').read()\n",
    "types = eval(types)\n",
    "\n",
    "types['gestat10'] = 'ord'"
   ]
  },
  {
   "cell_type": "code",
   "execution_count": 4,
   "metadata": {},
   "outputs": [
    {
     "data": {
      "text/plain": [
       "Unnamed: 0       71345\n",
       "Unnamed: 0.1     71345\n",
       "pldel                5\n",
       "birattnd             5\n",
       "brstate             55\n",
       "stoccfipb           51\n",
       "mager8               8\n",
       "ormoth               6\n",
       "mrace                9\n",
       "meduc6               5\n",
       "dmar                 2\n",
       "mplbir              58\n",
       "mpre5                4\n",
       "adequacy             3\n",
       "orfath               6\n",
       "frace                9\n",
       "birmon              12\n",
       "gestat10            10\n",
       "csex                 2\n",
       "anemia               2\n",
       "cardiac              2\n",
       "lung                 2\n",
       "diabetes             2\n",
       "herpes               2\n",
       "hydra                2\n",
       "hemo                 2\n",
       "chyper               2\n",
       "phyper               2\n",
       "eclamp               2\n",
       "incervix             2\n",
       "pre4000              2\n",
       "preterm              2\n",
       "renal                2\n",
       "rh                   2\n",
       "uterine              2\n",
       "othermr              2\n",
       "tobacco              2\n",
       "alcohol              2\n",
       "cigar6               6\n",
       "drink5               5\n",
       "crace                9\n",
       "data_year            3\n",
       "nprevistq            5\n",
       "dfageq               8\n",
       "feduc6               5\n",
       "infant_id_0      71345\n",
       "infant_id_1      71345\n",
       "dlivord_min         16\n",
       "dtotord_min         20\n",
       "bord_0               2\n",
       "bord_1               2\n",
       "brstate_reg          9\n",
       "stoccfipb_reg        9\n",
       "mplbir_reg           9\n",
       "dtype: int64"
      ]
     },
     "execution_count": 4,
     "metadata": {},
     "output_type": "execute_result"
    }
   ],
   "source": [
    "df.nunique()"
   ]
  },
  {
   "cell_type": "code",
   "execution_count": 5,
   "metadata": {
    "collapsed": true
   },
   "outputs": [],
   "source": [
    "df['bord'] = (df['bord_0'] < df['bord_1']).astype(int)\n",
    "to_remove = ['Unnamed: 0', 'Unnamed: 0.1', 'infant_id_0', 'infant_id_1',\n",
    "             'brstate', 'stoccfipb', 'mplbir', 'bord_0', 'bord_1']\n",
    "df = df.drop(to_remove, axis=1)\n",
    "\n",
    "for var in to_remove + ['gestat10']:\n",
    "    if var in types:\n",
    "        types.pop(var)"
   ]
  },
  {
   "cell_type": "code",
   "execution_count": 6,
   "metadata": {
    "collapsed": true
   },
   "outputs": [],
   "source": [
    "group_vars = {}\n",
    "for key, value in types.items():\n",
    "    group_vars[value] = group_vars.get(value, []) + [key]"
   ]
  },
  {
   "cell_type": "code",
   "execution_count": 7,
   "metadata": {},
   "outputs": [
    {
     "data": {
      "text/plain": [
       "['adequacy',\n",
       " 'mager8',\n",
       " 'mrace',\n",
       " 'drink5',\n",
       " 'data_year',\n",
       " 'pldel',\n",
       " 'meduc6',\n",
       " 'brstate_reg',\n",
       " 'dfageq',\n",
       " 'birattnd',\n",
       " 'crace',\n",
       " 'orfath',\n",
       " 'cigar6',\n",
       " 'feduc6',\n",
       " 'stoccfipb_reg',\n",
       " 'frace',\n",
       " 'ormoth',\n",
       " 'nprevistq',\n",
       " 'mpre5']"
      ]
     },
     "execution_count": 7,
     "metadata": {},
     "output_type": "execute_result"
    }
   ],
   "source": [
    "group_vars['cat']"
   ]
  },
  {
   "cell_type": "code",
   "execution_count": 8,
   "metadata": {
    "collapsed": true
   },
   "outputs": [],
   "source": [
    "missing = df.isna().mean(axis=0) > 0.2"
   ]
  },
  {
   "cell_type": "code",
   "execution_count": 9,
   "metadata": {},
   "outputs": [
    {
     "name": "stdout",
     "output_type": "stream",
     "text": [
      "(5,)\n"
     ]
    }
   ],
   "source": [
    "max_values = (df.max(axis=0) + 1)[missing]\n",
    "print (max_values.shape)"
   ]
  },
  {
   "cell_type": "code",
   "execution_count": 10,
   "metadata": {},
   "outputs": [
    {
     "name": "stdout",
     "output_type": "stream",
     "text": [
      "(41,)\n"
     ]
    }
   ],
   "source": [
    "mode_values = df.mode(axis=0).iloc[0][np.logical_not(missing)]\n",
    "print (mode_values.shape)"
   ]
  },
  {
   "cell_type": "code",
   "execution_count": 11,
   "metadata": {},
   "outputs": [
    {
     "name": "stdout",
     "output_type": "stream",
     "text": [
      "These columns are imputed using max_val + 1\n",
      "Index(['tobacco', 'alcohol', 'cigar6', 'drink5', 'feduc6'], dtype='object')\n",
      "These columns are imputed using mode\n",
      "Index(['pldel', 'birattnd', 'mager8', 'ormoth', 'mrace', 'meduc6', 'dmar',\n",
      "       'mpre5', 'adequacy', 'orfath', 'frace', 'birmon', 'gestat10', 'csex',\n",
      "       'anemia', 'cardiac', 'lung', 'diabetes', 'herpes', 'hydra', 'hemo',\n",
      "       'chyper', 'phyper', 'eclamp', 'incervix', 'pre4000', 'preterm', 'renal',\n",
      "       'rh', 'uterine', 'othermr', 'crace', 'data_year', 'nprevistq', 'dfageq',\n",
      "       'dlivord_min', 'dtotord_min', 'brstate_reg', 'stoccfipb_reg',\n",
      "       'mplbir_reg', 'bord'],\n",
      "      dtype='object')\n"
     ]
    }
   ],
   "source": [
    "new_category = missing.index[missing]\n",
    "mode_category = missing.index[np.logical_not(missing)]\n",
    "\n",
    "print (\"These columns are imputed using max_val + 1\")\n",
    "print (new_category)\n",
    "\n",
    "print (\"These columns are imputed using mode\")\n",
    "print (mode_category)"
   ]
  },
  {
   "cell_type": "code",
   "execution_count": 12,
   "metadata": {
    "collapsed": true
   },
   "outputs": [],
   "source": [
    "df[new_category] = df[new_category].fillna(max_values, axis=0)\n",
    "df[mode_category] = df[mode_category].fillna(mode_values, axis=0)"
   ]
  },
  {
   "cell_type": "code",
   "execution_count": 13,
   "metadata": {},
   "outputs": [
    {
     "name": "stdout",
     "output_type": "stream",
     "text": [
      "(71345, 149)\n",
      "This is not the same as CEVAE but the closest we could get to the author's description\n"
     ]
    }
   ],
   "source": [
    "df = pd.get_dummies(df, columns=group_vars['cat'])\n",
    "print (df.shape)\n",
    "print (\"This is not the same as CEVAE but the closest we could get to the author's description\")"
   ]
  },
  {
   "cell_type": "code",
   "execution_count": 14,
   "metadata": {
    "collapsed": true
   },
   "outputs": [],
   "source": [
    "z = df['gestat10'].values.reshape(-1,1)\n",
    "x = df.drop(['gestat10'], axis=1).values"
   ]
  },
  {
   "cell_type": "code",
   "execution_count": 15,
   "metadata": {
    "collapsed": true
   },
   "outputs": [],
   "source": [
    "n = 5\n",
    "    \n",
    "w0 = 0.1  * np.random.randn(x.shape[1], n) \n",
    "wh = 5 + 0.1 * np.random.randn(1, n)\n",
    "probs = expit(x @ w0 + (z / 10 - 0.1) @ wh)\n",
    "t = np.random.binomial(1, probs)\n",
    "\n",
    "ys = ys.values"
   ]
  },
  {
   "cell_type": "code",
   "execution_count": 16,
   "metadata": {},
   "outputs": [
    {
     "name": "stdout",
     "output_type": "stream",
     "text": [
      "0\n",
      "0.1\n",
      "0.2\n",
      "0.3\n",
      "0.4\n",
      "0.5\n"
     ]
    }
   ],
   "source": [
    "noises = [0, 0.1, 0.2, 0.3, 0.4, 0.5]\n",
    "for noise in noises:\n",
    "    print (noise)\n",
    "    prox = pd.get_dummies(df['gestat10']).values[:, :, np.newaxis]\n",
    "    prox = np.repeat(prox, 3, 1)\n",
    "    prox = np.repeat(prox, n, 2).astype(bool)\n",
    "    flip = (np.random.uniform(size=prox.shape) > (1-noise))\n",
    "    proxies = np.logical_xor(prox, flip).astype(int)\n",
    "\n",
    "    x_repeat = np.repeat(x[:, :, np.newaxis], n, 2)\n",
    "    features = np.concatenate([x_repeat, proxies], axis=1)\n",
    "    \n",
    "    path = '../Data/Twins_%d' % (100 * noise)\n",
    "    \n",
    "    if not os.path.exists(path):\n",
    "        os.makedirs(path)\n",
    "    count = features.shape[0]\n",
    "    size = int(0.75 * count)\n",
    "\n",
    "    x_train = np.zeros((size, features.shape[1], n))\n",
    "    x_test = np.zeros((count - size, features.shape[1], n))\n",
    "\n",
    "    t_train = np.zeros((size, n))\n",
    "    t_test = np.zeros((count - size, n))\n",
    "\n",
    "    yf_train = np.zeros_like(t_train)\n",
    "    ycf_train = np.zeros_like(t_train)\n",
    "\n",
    "    yf_test = np.zeros_like(t_test)\n",
    "    ycf_test = np.zeros_like(t_test)\n",
    "    \n",
    "    mu0_train = np.zeros_like(t_train)\n",
    "    mu1_train = np.zeros_like(t_train)\n",
    "\n",
    "    mu0_test = np.zeros_like(t_test)\n",
    "    mu1_test = np.zeros_like(t_test)\n",
    "\n",
    "    for i in range(n):\n",
    "        temp_x = features[:,:,i]\n",
    "        temp_t = t[:,i].astype(int)\n",
    "        temp_yf = ys[np.arange(ys.shape[0]), temp_t]\n",
    "        temp_ycf = ys[np.arange(ys.shape[0]), 1-temp_t]\n",
    "        temp_mu0 = ys[:, 0]\n",
    "        temp_mu1 = ys[:, 1]\n",
    "        \n",
    "        x_train[:,:,i], x_test[:, :, i], t_train[:,i], t_test[:,i], yf_train[:,i], yf_test[:,i], \\\n",
    "           ycf_train[:,i], ycf_test[:,i], mu0_train[:,i], mu0_test[:,i], mu1_train[:,i], mu1_test[:,i], \\\n",
    "            = train_test_split(temp_x, temp_t, temp_yf, temp_ycf, temp_mu0, temp_mu1)\n",
    "\n",
    "    np.savez(path + '/train.npz', x=x_train, t=t_train, yf=yf_train, ycf=ycf_train, mu1=mu1_train, mu0=mu0_train)\n",
    "    np.savez(path + '/test.npz', x=x_test, t=t_test, yf=yf_test, ycf=ycf_test, mu1=mu1_test, mu0=mu0_test)"
   ]
  },
  {
   "cell_type": "code",
   "execution_count": null,
   "metadata": {
    "collapsed": true
   },
   "outputs": [],
   "source": []
  }
 ],
 "metadata": {
  "anaconda-cloud": {},
  "kernelspec": {
   "display_name": "Python 3",
   "language": "python",
   "name": "python3"
  },
  "language_info": {
   "codemirror_mode": {
    "name": "ipython",
    "version": 3
   },
   "file_extension": ".py",
   "mimetype": "text/x-python",
   "name": "python",
   "nbconvert_exporter": "python",
   "pygments_lexer": "ipython3",
   "version": "3.6.3"
  }
 },
 "nbformat": 4,
 "nbformat_minor": 2
}
