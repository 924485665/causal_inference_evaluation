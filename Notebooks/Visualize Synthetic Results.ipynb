{
 "cells": [
  {
   "cell_type": "code",
   "execution_count": 1,
   "metadata": {
    "collapsed": true
   },
   "outputs": [],
   "source": [
    "import os\n",
    "import pandas as pd\n",
    "from scipy.stats import sem\n",
    "import matplotlib.pyplot as plt\n",
    "import numpy as np\n",
    "import math"
   ]
  },
  {
   "cell_type": "code",
   "execution_count": 2,
   "metadata": {
    "collapsed": true
   },
   "outputs": [],
   "source": [
    "results_path = '../Results/'\n",
    "files = sorted(os.listdir(results_path))\n",
    "files = list(map(lambda x: x.split('.')[0], files))\n",
    "noise = {}\n",
    "ate_mean = {}\n",
    "ate_ste = {}"
   ]
  },
  {
   "cell_type": "code",
   "execution_count": 3,
   "metadata": {
    "collapsed": true
   },
   "outputs": [],
   "source": [
    "for file in files:\n",
    "    names = file.split('_')\n",
    "    if names[1] == 'Synthetic' and len(names) >= 3:\n",
    "        model = names[0]\n",
    "        n_samples = names[2]\n",
    "        \n",
    "        noise[model] = noise.get(model, []) + [float(n_samples)]\n",
    "        \n",
    "        data = pd.read_csv(results_path + file + '.csv', index_col=0)\n",
    "        ate_mean[model] = ate_mean.get(model, []) + [data.loc['OUT_MEAN']['ABS_ATE']]\n",
    "        ate_ste[model] = ate_ste.get(model, []) + [data.loc['OUT_STD']['ABS_ATE']]"
   ]
  },
  {
   "cell_type": "code",
   "execution_count": 4,
   "metadata": {},
   "outputs": [
    {
     "data": {
      "image/png": "[encoded data removed]",
      "text/plain": [
       "<matplotlib.figure.Figure at 0x10bb7d668>"
      ]
     },
     "metadata": {},
     "output_type": "display_data"
    }
   ],
   "source": [
    "plt.figure(figsize=(10,10))\n",
    "for model in noise.keys():\n",
    "\n",
    "    x = np.log10(noise[model])\n",
    "    y = [ye for _,ye in sorted(zip(x,ate_mean[model]))]\n",
    "    err = [errs for _,errs in sorted(zip(x,ate_ste[model]))]\n",
    "    x = sorted(x)\n",
    "    \n",
    "    plt.errorbar(x, y, yerr=err, label=model)\n",
    "    plt.legend()\n",
    "plt.ylabel('Absolute ATE Error')\n",
    "plt.xlabel('Log N Samples')\n",
    "plt.savefig('../Figures/twins_ate_error.png')\n",
    "plt.show()"
   ]
  },
  {
   "cell_type": "code",
   "execution_count": null,
   "metadata": {
    "collapsed": true
   },
   "outputs": [],
   "source": []
  },
  {
   "cell_type": "code",
   "execution_count": null,
   "metadata": {
    "collapsed": true
   },
   "outputs": [],
   "source": []
  }
 ],
 "metadata": {
  "anaconda-cloud": {},
  "kernelspec": {
   "display_name": "Python 3",
   "language": "python",
   "name": "python3"
  },
  "language_info": {
   "codemirror_mode": {
    "name": "ipython",
    "version": 3
   },
   "file_extension": ".py",
   "mimetype": "text/x-python",
   "name": "python",
   "nbconvert_exporter": "python",
   "pygments_lexer": "ipython3",
   "version": "3.6.3"
  }
 },
 "nbformat": 4,
 "nbformat_minor": 2
}
